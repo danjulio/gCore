{
 "cells": [
  {
   "cell_type": "code",
   "execution_count": 1,
   "metadata": {},
   "outputs": [],
   "source": [
    "import PIL\n",
    "from PIL import Image\n",
    "import numpy as np\n",
    "import sys"
   ]
  },
  {
   "cell_type": "code",
   "execution_count": 2,
   "metadata": {},
   "outputs": [],
   "source": [
    "def RGB565(rgb):\n",
    "    R = int((rgb[0] + 4)*31.0/255.0) << 11\n",
    "    G = int((rgb[1] + 2)*63.0/255.0) << 5\n",
    "    B = int((rgb[2] + 4)*31.0/255.0) \n",
    "    return hex(R + G + B)"
   ]
  },
  {
   "cell_type": "code",
   "execution_count": 3,
   "metadata": {},
   "outputs": [],
   "source": [
    "def createTexture(im, name):\n",
    "    NAMESPACE = \"tgx\"\n",
    "    ar = np.asarray(im)\n",
    "    with open(name + \"_texture.h\", \"w\") as f:   \n",
    "        f.write('//\\n');\n",
    "        f.write(f'// texture [{name}]\\n');\n",
    "        f.write('//\\n');\n",
    "        f.write('#pragma once\\n\\n');\n",
    "        f.write('#include <tgx.h>\\n\\n');\n",
    "        f.write(f'const uint16_t {name}_texture_data[{im.width}*{im.height}] PROGMEM = {{\\n');\n",
    "        i = 0\n",
    "        for y in range(im.height):\n",
    "            for x in range(im.width):\n",
    "                f.write(RGB565(ar[im.height - 1 - y, x]))\n",
    "                if y*x != ((im.width-1)*(im.height-1)):\n",
    "                    f.write(\", \")\n",
    "                i += 1\n",
    "                if i == 16:\n",
    "                    f.write(\"\\n\")\n",
    "                    i = 0;\n",
    "        f.write('};\\n\\n')\n",
    "        f.write(f'const {NAMESPACE}::Image<{NAMESPACE}::RGB565> {name}_texture((void*){name}_texture_data, {im.width}, {im.height});')                    \n",
    "        f.write(f'\\n\\n/** end of file {name}_texture.h */\\n\\n');\n",
    "    print(f\"\\nTexture file [{name}_texture.h] created.\\n\\n\")"
   ]
  },
  {
   "cell_type": "code",
   "execution_count": 4,
   "metadata": {},
   "outputs": [],
   "source": [
    "def testPow2(n):\n",
    "    return (n & (n-1) == 0) and n != 0"
   ]
  },
  {
   "cell_type": "code",
   "execution_count": 6,
   "metadata": {
    "scrolled": true
   },
   "outputs": [
    {
     "name": "stdout",
     "output_type": "stream",
     "text": [
      "\n",
      "*** Python script to generate a .h texture file from an image ***\n",
      "\n",
      "\n",
      "Texture image filename ? scream.jpg\n",
      "\n",
      "\n",
      "Image [scream.jpg] of size : 256x256\n",
      "\n",
      "Texture width (enter to keep 256) ? 256\n",
      "Texture height (enter to keep 256) ? 256\n",
      "Name of the texture ? scream\n",
      "\n",
      "Texture file [scream_texture.h] created.\n",
      "\n",
      "\n"
     ]
    }
   ],
   "source": [
    "print(\"\"\"\n",
    "*** Python script to generate a .h texture file from an image ***\n",
    "\n",
    "\"\"\")\n",
    "\n",
    "# get the file name\n",
    "while True:\n",
    "    try:\n",
    "        filename = input(\"Texture image filename ? \")\n",
    "        print()\n",
    "        image = Image.open(filename)\n",
    "        break\n",
    "    except:\n",
    "        print(f\"\\n*** cannot open image file [{filename}]... ***\\n\\n\")\n",
    "    \n",
    "print(f\"\\nImage [{filename}] of size : {image.width}x{image.height}\\n\")\n",
    "\n",
    "w = input(f\"Texture width (enter to keep {image.width}) ? \")\n",
    "if len(w) == 0:\n",
    "    w = image.width\n",
    "else:\n",
    "    w = int(w)    \n",
    "    \n",
    "if not testPow2(w):\n",
    "    print(\"!!!! the image width is not a power of two: image cannot be used for texture mapping  (but it can still be used as an image)!!!!\")\n",
    "    \n",
    "h = input(f\"Texture height (enter to keep {image.height}) ? \")\n",
    "if len(h) == 0:\n",
    "    h = image.height\n",
    "else:\n",
    "    h = int(h)    \n",
    "\n",
    "if not testPow2(h):\n",
    "    print(\"!!!! the image height is not a power of two: image cannot be used for texture mapping (but it can still be used as an image) !!!!\")\n",
    "\n",
    "if (w != image.width) or (h != image.height):\n",
    "    image = image.resize((w,h),Image.BICUBIC)\n",
    "\n",
    "\n",
    "name = input(f\"Name of the texture ? \")\n",
    "\n",
    "createTexture(image, name)"
   ]
  },
  {
   "cell_type": "code",
   "execution_count": null,
   "metadata": {},
   "outputs": [],
   "source": []
  }
 ],
 "metadata": {
  "kernelspec": {
   "display_name": "Python 3",
   "language": "python",
   "name": "python3"
  },
  "language_info": {
   "codemirror_mode": {
    "name": "ipython",
    "version": 3
   },
   "file_extension": ".py",
   "mimetype": "text/x-python",
   "name": "python",
   "nbconvert_exporter": "python",
   "pygments_lexer": "ipython3",
   "version": "3.7.6"
  },
  "latex_envs": {
   "LaTeX_envs_menu_present": true,
   "autoclose": false,
   "autocomplete": false,
   "bibliofile": "biblio.bib",
   "cite_by": "apalike",
   "current_citInitial": 1,
   "eqLabelWithNumbers": true,
   "eqNumInitial": 1,
   "hotkeys": {
    "equation": "Ctrl-E",
    "itemize": "Ctrl-I"
   },
   "labels_anchors": false,
   "latex_user_defs": false,
   "report_style_numbering": false,
   "user_envs_cfg": false
  }
 },
 "nbformat": 4,
 "nbformat_minor": 4
}
